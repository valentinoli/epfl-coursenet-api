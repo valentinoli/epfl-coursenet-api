{
 "cells": [
  {
   "cell_type": "code",
   "execution_count": null,
   "metadata": {},
   "outputs": [],
   "source": [
    "import numpy as np\n",
    "import pandas as pd\n",
    "from utils import read\n",
    "from search import helpers\n",
    "\n",
    "from sklearn.feature_extraction.text import TfidfVectorizer\n",
    "# Note that the tf-idf functionality in sklearn.feature_extraction.text can produce\n",
    "# normalized vectors, in which case cosine_similarity is equivalent to linear_kernel, only slower.\n",
    "# https://scikit-learn.org/stable/modules/metrics.html#cosine-similarity\n",
    "from sklearn.metrics.pairwise import linear_kernel\n",
    "\n",
    "%reload_ext autoreload\n",
    "%autoreload 2"
   ]
  },
  {
   "cell_type": "code",
   "execution_count": null,
   "metadata": {},
   "outputs": [],
   "source": [
    "courses_text = read.read_json_processed('courses-text')\n",
    "slug_keywords = pd.DataFrame(courses_text).T[['summary', 'content', 'keywords']]\n",
    "# the index is the course slug\n",
    "slug_keywords.index.name = 'slug'\n",
    "slug_keywords.reset_index(inplace=True)\n",
    "\n",
    "courses = read.read_json_processed('courses')\n",
    "slug_code_name = pd.DataFrame(courses)[['slug', 'code', 'name']]\n",
    "\n",
    "df = pd.merge(slug_keywords, slug_code_name)\n",
    "\n",
    "df['token_string'] = df[['name', 'content', 'summary', 'keywords']].apply(lambda row: row.str.cat(sep=' '), axis=1).str.strip()\n",
    "# df['token_string'] = df.search_string.str.strip()\n",
    "df['token_string_with_slug'] = df.token_string.str.cat(df.slug, sep=' ')"
   ]
  },
  {
   "cell_type": "code",
   "execution_count": null,
   "metadata": {},
   "outputs": [],
   "source": [
    "tfidf = TfidfVectorizer(analyzer='word', preprocessor=helpers.clean_text)\n",
    "features = tfidf.fit_transform(df.token_string)\n",
    "features_withslug = tfidf.fit_transform(df.token_string_with_slug)"
   ]
  },
  {
   "cell_type": "code",
   "execution_count": null,
   "metadata": {},
   "outputs": [],
   "source": [
    "courseindex = pd.Series(df.slug, name=None)\n",
    "helpers.save_df(courseindex, 'index')"
   ]
  },
  {
   "cell_type": "code",
   "execution_count": null,
   "metadata": {},
   "outputs": [],
   "source": [
    "cos = linear_kernel(features)\n",
    "# zero elements above (and including) the diagonal \n",
    "# --> no duplicates or self-similarities\n",
    "cosdf = pd.DataFrame(np.tril(cos, k=-1)).round(2)\n",
    "# np.fill_diagonal(cosdf.values, 0)"
   ]
  },
  {
   "cell_type": "code",
   "execution_count": null,
   "metadata": {},
   "outputs": [],
   "source": [
    "for i in range(20, 100, 5):\n",
    "    sim_threshold = i/100\n",
    "    cosdf[cosdf < sim_threshold] = 0\n",
    "    scosdf = cosdf.astype(pd.SparseDtype('float', fill_value=0))\n",
    "    print(f'Similarity threshold: {sim_threshold} --- Sparse matrix density: {scosdf.sparse.density}')\n",
    "    filename = f'sim{i}'\n",
    "    helpers.save_sparsemat(scosdf.sparse.to_coo(), filename)"
   ]
  },
  {
   "cell_type": "code",
   "execution_count": null,
   "metadata": {},
   "outputs": [],
   "source": [
    "helpers.save_df(df, 'courses_df')\n",
    "# include slug in features for query engine (enables search by course code)\n",
    "helpers.save_sparsemat(features_withslug, 'features')\n",
    "helpers.save_pickle(tfidf, 'tfidf')"
   ]
  }
 ],
 "metadata": {
  "kernelspec": {
   "display_name": "Python 3.9.1 64-bit ('env': venv)",
   "name": "python391jvsc74a57bd0c7d5dbb052a9f3f1d3a496e478ca3afbad7ea4149eae0542bf3aea0b737f55bb"
  },
  "language_info": {
   "codemirror_mode": {
    "name": "ipython",
    "version": 3
   },
   "file_extension": ".py",
   "mimetype": "text/x-python",
   "name": "python",
   "nbconvert_exporter": "python",
   "pygments_lexer": "ipython3",
   "version": "3.9.1"
  }
 },
 "nbformat": 4,
 "nbformat_minor": 4
}
